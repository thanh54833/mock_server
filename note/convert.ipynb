{
 "cells": [
  {
   "cell_type": "code",
   "execution_count": 16,
   "id": "initial_id",
   "metadata": {
    "collapsed": true,
    "ExecuteTime": {
     "end_time": "2024-05-24T00:50:37.903603Z",
     "start_time": "2024-05-24T00:50:37.888208Z"
    }
   },
   "outputs": [],
   "source": [
    "import json\n",
    "\n",
    "# Define the prefix list\n",
    "prefixes = [\"/home/\", \"/product_detail/\", \"/view_all/\"]\n",
    "\n",
    "# Open the openapi.json file and load the JSON data\n",
    "with open(\"../openapi.json\", \"r\") as f:\n",
    "    data = json.load(f)\n",
    "\n",
    "# Iterate over the paths\n",
    "for path, path_data in data[\"paths\"].items():\n",
    "    # Check if the path starts with any of the prefixes\n",
    "    for prefix in prefixes:\n",
    "        if path.startswith(prefix):\n",
    "            # Iterate over the operations\n",
    "            for operation, operation_data in path_data.items():\n",
    "                # Check if the operation is \"post\"\n",
    "                # Add the \"tags\" field with the corresponding prefix\n",
    "                operation_data[\"tags\"] = [prefix.strip(\"/\")]\n",
    "                # Modify the \"responses\" field\n",
    "                operation_data[\"responses\"][\"200\"] = {}\n",
    "                   \n",
    "# Write the modified JSON data back to the openapi_2.json file\n",
    "with open(\"openapi_2.json\", \"w\") as f:\n",
    "    json.dump(data, f, indent=4)"
   ]
  },
  {
   "cell_type": "markdown",
   "source": [],
   "metadata": {
    "collapsed": false
   },
   "id": "e48aa4b13f47038c"
  },
  {
   "cell_type": "code",
   "outputs": [],
   "source": [],
   "metadata": {
    "collapsed": false,
    "ExecuteTime": {
     "start_time": "2024-05-24T00:42:51.111824Z"
    }
   },
   "id": "7d33c2534f19a317",
   "execution_count": null
  },
  {
   "cell_type": "code",
   "outputs": [],
   "source": [],
   "metadata": {
    "collapsed": false,
    "ExecuteTime": {
     "start_time": "2024-05-24T00:42:51.115281Z"
    }
   },
   "id": "871214a6f78df63a",
   "execution_count": null
  }
 ],
 "metadata": {
  "kernelspec": {
   "display_name": "Python 3",
   "language": "python",
   "name": "python3"
  },
  "language_info": {
   "codemirror_mode": {
    "name": "ipython",
    "version": 2
   },
   "file_extension": ".py",
   "mimetype": "text/x-python",
   "name": "python",
   "nbconvert_exporter": "python",
   "pygments_lexer": "ipython2",
   "version": "2.7.6"
  }
 },
 "nbformat": 4,
 "nbformat_minor": 5
}
