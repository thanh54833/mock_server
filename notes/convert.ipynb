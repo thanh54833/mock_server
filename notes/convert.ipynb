{
 "cells": [
  {
   "cell_type": "code",
   "execution_count": 22,
   "id": "initial_id",
   "metadata": {
    "collapsed": true,
    "ExecuteTime": {
     "end_time": "2024-05-24T01:02:56.113475Z",
     "start_time": "2024-05-24T01:02:56.085330Z"
    }
   },
   "outputs": [],
   "source": [
    "import json\n",
    "\n",
    "# Define the prefix list\n",
    "prefixes = [\"/home\", \"/product_detail\", \"/view_all\"]\n",
    "\n",
    "# Open the openapi.json file and load the JSON data\n",
    "with open(\"../openapi.json\", \"r\") as f:\n",
    "    data = json.load(f)\n",
    "\n",
    "# Iterate over the paths\n",
    "for path, path_data in data[\"paths\"].items():\n",
    "    # Check if the path starts with any of the prefixes\n",
    "    for prefix in prefixes:\n",
    "        if path.startswith(prefix):\n",
    "            # Iterate over the operations\n",
    "            for operation, operation_data in path_data.items():\n",
    "                # Add the \"tags\" field with the corresponding prefix\n",
    "                operation_data[\"tags\"] = [prefix.strip(\"/\")]\n",
    "\n",
    "# Write the modified JSON data back to the openapi_2.json file\n",
    "with open(\"../final_openapi.json\", \"w\") as f:\n",
    "    json.dump(data, f, indent=4)"
   ]
  },
  {
   "cell_type": "markdown",
   "source": [],
   "metadata": {
    "collapsed": false
   },
   "id": "e48aa4b13f47038c"
  },
  {
   "cell_type": "code",
   "outputs": [],
   "source": [
    "import json\n",
    "\n",
    "# Load the Mockoon data\n",
    "with open('/Users/phamthanh/Desktop/swagger_ui/concung.json', 'r') as f:\n",
    "    mockoon_data = json.load(f)\n",
    "\n",
    "# Initialize the OpenAPI data\n",
    "openapi_data = {\n",
    "    \"openapi\": \"3.0.0\",\n",
    "    \"info\": {\n",
    "        \"title\": \"API title\",\n",
    "        \"version\": \"1.0.0\"\n",
    "    },\n",
    "    \"paths\": {},\n",
    "    \"servers\": [\n",
    "        {\n",
    "            \"url\": \"http://localhost:3001/\"\n",
    "        }\n",
    "    ],\n",
    "}\n",
    "\n",
    "# Convert the Mockoon data to OpenAPI format\n",
    "for route in mockoon_data['routes']:\n",
    "    path = \"/\" + route['endpoint']\n",
    "\n",
    "    method = route['method'].lower()\n",
    "    responses = {\n",
    "        str(route['responses'][0]['statusCode']): {\n",
    "            \"description\": \"\",\n",
    "            \"content\": {\n",
    "                \"application/json\": {\n",
    "                    \"example\": route['responses'][0]['body']  #json.loads()\n",
    "                }\n",
    "            },\n",
    "            \"headers\": {\n",
    "                \"Access-Control-Allow-Origin\": {\n",
    "                    \"schema\": {\n",
    "                        \"type\": \"string\"\n",
    "                    },\n",
    "                    \"example\": \"*\"\n",
    "                },\n",
    "                \"Access-Control-Allow-Methods\": {\n",
    "                    \"schema\": {\n",
    "                        \"type\": \"string\"\n",
    "                    },\n",
    "                    \"example\": \"GET,POST,PUT,PATCH,DELETE,HEAD,OPTIONS\"\n",
    "                },\n",
    "                \"Access-Control-Allow-Headers\": {\n",
    "                    \"schema\": {\n",
    "                        \"type\": \"string\"\n",
    "                    },\n",
    "                    \"example\": \"Content-Type, Origin, Accept, Authorization, Content-Length, X-Requested-With\"\n",
    "                },\n",
    "                \"\": {\n",
    "                    \"schema\": {\n",
    "                        \"type\": \"string\"\n",
    "                    },\n",
    "                    \"example\": \"\"\n",
    "                }\n",
    "            }\n",
    "        }\n",
    "    }\n",
    "\n",
    "    openapi_data['paths'][path] = {\n",
    "        method: {\n",
    "            \"description\": \"\",\n",
    "            \"responses\": responses,\n",
    "            \"tags\": [\n",
    "                path.split(\"/\")[1]\n",
    "            ]\n",
    "        }\n",
    "    }\n",
    "\n",
    "# Save the OpenAPI data\n",
    "with open('openapi_w.json', 'w') as f:\n",
    "    json.dump(openapi_data, f, indent=4)"
   ],
   "metadata": {
    "collapsed": false,
    "ExecuteTime": {
     "end_time": "2024-05-24T01:59:59.832044Z",
     "start_time": "2024-05-24T01:59:59.812342Z"
    }
   },
   "id": "7d33c2534f19a317",
   "execution_count": 49
  },
  {
   "cell_type": "code",
   "outputs": [],
   "source": [],
   "metadata": {
    "collapsed": false,
    "ExecuteTime": {
     "end_time": "2024-05-24T01:40:35.517424Z",
     "start_time": "2024-05-24T01:40:35.508784Z"
    }
   },
   "id": "871214a6f78df63a",
   "execution_count": 38
  },
  {
   "cell_type": "code",
   "outputs": [],
   "source": [],
   "metadata": {
    "collapsed": false
   },
   "id": "52746b91b4423725"
  }
 ],
 "metadata": {
  "kernelspec": {
   "display_name": "Python 3",
   "language": "python",
   "name": "python3"
  },
  "language_info": {
   "codemirror_mode": {
    "name": "ipython",
    "version": 2
   },
   "file_extension": ".py",
   "mimetype": "text/x-python",
   "name": "python",
   "nbconvert_exporter": "python",
   "pygments_lexer": "ipython2",
   "version": "2.7.6"
  }
 },
 "nbformat": 4,
 "nbformat_minor": 5
}
