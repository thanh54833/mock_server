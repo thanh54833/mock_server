{
 "cells": [
  {
   "cell_type": "code",
   "execution_count": 5,
   "id": "initial_id",
   "metadata": {
    "collapsed": true,
    "ExecuteTime": {
     "end_time": "2024-05-26T16:30:06.947557Z",
     "start_time": "2024-05-26T16:30:06.756321Z"
    }
   },
   "outputs": [
    {
     "name": "stdout",
     "output_type": "stream",
     "text": [
      "Successfully loaded: input.png\n",
      "AVIF to be written: (Lossy)\n",
      " * Resolution     : 1179x2556\n",
      " * Bit Depth      : 8\n",
      " * Format         : YUV444\n",
      " * Alpha          : Not premultiplied\n",
      " * Range          : Full\n",
      " * Color Primaries: 1\n",
      " * Transfer Char. : 13\n",
      " * Matrix Coeffs. : 6\n",
      " * ICC Profile    : Absent\n",
      " * XMP Metadata   : Absent\n",
      " * Exif Metadata  : Present (68 bytes)\n",
      " * Transformations: None\n",
      " * Progressive    : Unavailable\n",
      "Encoding with AV1 codec 'aom' speed [6], color quality [60 (Medium)], alpha quality [100 (Lossless)], tileRowsLog2 [0], tileColsLog2 [0], 1 worker thread(s), please wait...\n",
      "Encoded successfully.\n",
      " * Color AV1 total size: 4201 bytes\n",
      " * Alpha AV1 total size: 0 bytes\n",
      "Wrote AVIF: output.avif\n"
     ]
    },
    {
     "data": {
      "text/plain": "CompletedProcess(args=['avifenc', 'input.png', 'output.avif'], returncode=0)"
     },
     "execution_count": 5,
     "metadata": {},
     "output_type": "execute_result"
    }
   ],
   "source": [
    "import subprocess\n",
    "\n",
    "input_png = 'input.png'\n",
    "output_avif = 'output.avif'\n",
    "\n",
    "subprocess.run(['avifenc', input_png, output_avif],)"
   ]
  },
  {
   "cell_type": "code",
   "outputs": [],
   "source": [],
   "metadata": {
    "collapsed": false,
    "ExecuteTime": {
     "end_time": "2024-05-26T16:30:03.839662Z",
     "start_time": "2024-05-26T16:30:03.832993Z"
    }
   },
   "id": "397e86ee5b576cf4",
   "execution_count": 4
  },
  {
   "cell_type": "code",
   "outputs": [],
   "source": [],
   "metadata": {
    "collapsed": false
   },
   "id": "45087effa78296e0"
  }
 ],
 "metadata": {
  "kernelspec": {
   "display_name": "Python 3",
   "language": "python",
   "name": "python3"
  },
  "language_info": {
   "codemirror_mode": {
    "name": "ipython",
    "version": 2
   },
   "file_extension": ".py",
   "mimetype": "text/x-python",
   "name": "python",
   "nbconvert_exporter": "python",
   "pygments_lexer": "ipython2",
   "version": "2.7.6"
  }
 },
 "nbformat": 4,
 "nbformat_minor": 5
}
